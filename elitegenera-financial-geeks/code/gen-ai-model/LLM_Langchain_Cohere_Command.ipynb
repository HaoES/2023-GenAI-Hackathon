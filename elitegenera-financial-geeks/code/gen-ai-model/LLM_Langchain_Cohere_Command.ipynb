{
  "nbformat": 4,
  "nbformat_minor": 0,
  "metadata": {
    "colab": {
      "provenance": []
    },
    "kernelspec": {
      "name": "python3",
      "display_name": "Python 3"
    },
    "language_info": {
      "name": "python"
    }
  },
  "cells": [
    {
      "cell_type": "markdown",
      "source": [
        "# Through this model, I'll try to undesrand the opportunities waiting for Morocco in case we invest in exporting specific products to specific coutnries."
      ],
      "metadata": {
        "id": "OJb1n-ElxJ22"
      }
    },
    {
      "cell_type": "markdown",
      "source": [
        "## Importing my dataset that is cleanes and transformed"
      ],
      "metadata": {
        "id": "e3Wooc7EvubS"
      }
    },
    {
      "cell_type": "code",
      "execution_count": null,
      "metadata": {
        "id": "6S5HW-hkmyDM"
      },
      "outputs": [],
      "source": [
        "import pandas as pd"
      ]
    },
    {
      "cell_type": "code",
      "source": [
        "df = pd.read_csv('/content/data_text_ECI.csv')"
      ],
      "metadata": {
        "id": "rP2WrF28m040"
      },
      "execution_count": null,
      "outputs": []
    },
    {
      "cell_type": "markdown",
      "source": [
        "## Starting My Generative AI part"
      ],
      "metadata": {
        "id": "w-_6ghxIv0m9"
      }
    },
    {
      "cell_type": "code",
      "source": [
        "#Installing the needed package\n",
        "!pip install langchain_experimental"
      ],
      "metadata": {
        "id": "29HRkthmnTgt"
      },
      "execution_count": null,
      "outputs": []
    },
    {
      "cell_type": "code",
      "source": [
        "#First, I tried working with OpenAI API but since its paid, I switched to Cohere a Retrieval Augmented Generation (RAG). It includes free models like command, command nightly\n",
        "!pip install cohere\n",
        "!pip show langchain"
      ],
      "metadata": {
        "id": "bLTOg0Ptodlm"
      },
      "execution_count": null,
      "outputs": []
    },
    {
      "cell_type": "code",
      "source": [
        "#Then, I imported an agent: the chain responsible for determining what action to take next. In my case that can easly read my csv file(containig an input, and the desired output)\n",
        "from langchain_experimental.agents import create_csv_agent\n",
        "from langchain.llms import Cohere"
      ],
      "metadata": {
        "id": "VPmz9A2iniKJ"
      },
      "execution_count": null,
      "outputs": []
    },
    {
      "cell_type": "code",
      "source": [
        "#After thta, I passed to my agent, the temperature to make it more creative i gave it 0.6 instead of 0, than I included my api_key, and the model, in my case i used \"Commad Nightly\"\n",
        "agent = create_csv_agent(Cohere(temperature=0.6, cohere_api_key=\"sMtMgxOL4fxZtpW0OOFtLFraoAXCsq0FXYwoV0Xi\", model = 'command-nightly'),\n",
        "                         '/content/data_text_ECI.csv',handle_parsing_errors=True,\n",
        "                         verbose=True)"
      ],
      "metadata": {
        "id": "x8KhFpuZoUGk"
      },
      "execution_count": null,
      "outputs": []
    },
    {
      "cell_type": "code",
      "source": [
        "agent"
      ],
      "metadata": {
        "id": "DWn6Pw04oWmp"
      },
      "execution_count": null,
      "outputs": []
    },
    {
      "cell_type": "markdown",
      "source": [
        "### Testing the Accuracy of my model with some prompts\n",
        "- Tried to ask my model different questions"
      ],
      "metadata": {
        "id": "Rdhl2hkmpBx3"
      }
    },
    {
      "cell_type": "code",
      "source": [
        "output_product1 = agent.run(\"what ise the the product that morocco should invest in and export to France?\")"
      ],
      "metadata": {
        "id": "vDkvkt3loqe3"
      },
      "execution_count": null,
      "outputs": []
    },
    {
      "cell_type": "code",
      "source": [
        "output_product2 = agent.run(\"what ise the the product that morocco should invest in and export to USA?\")"
      ],
      "metadata": {
        "id": "aL1bacgRp9lc"
      },
      "execution_count": null,
      "outputs": []
    },
    {
      "cell_type": "code",
      "source": [
        "output_product3 = agent.run(\"what ise the the product that morocco should invest in and export to Germany?\")"
      ],
      "metadata": {
        "id": "u0_9RMfhp9v7"
      },
      "execution_count": null,
      "outputs": []
    },
    {
      "cell_type": "markdown",
      "source": [
        "### My results"
      ],
      "metadata": {
        "id": "Ix1LPIa8xX4U"
      }
    },
    {
      "cell_type": "code",
      "source": [
        "print(\"France :\" + output_product1)\n",
        "print(\"USA :\" + output_product2)\n",
        "print(\"Germany :\" + output_product3)"
      ],
      "metadata": {
        "id": "UbvQLkF3pJm8",
        "colab": {
          "base_uri": "https://localhost:8080/"
        },
        "outputId": "6cbe8010-646f-4b36-ba0f-08901045f199"
      },
      "execution_count": null,
      "outputs": [
        {
          "output_type": "stream",
          "name": "stdout",
          "text": [
            "France :Based on the available information, Morocco should invest in Phosphates and export these to France.\n",
            "USA :Phosphates\n",
            "Germany :Aerospace Components\n"
          ]
        }
      ]
    },
    {
      "cell_type": "markdown",
      "source": [
        "## Conclusion\n",
        "- Based on those results I got the objective of investing in the right product, in the right place(country to export to, to make morcco more copetitive in export industry)."
      ],
      "metadata": {
        "id": "VTEDgqq5w3GJ"
      }
    }
  ]
}